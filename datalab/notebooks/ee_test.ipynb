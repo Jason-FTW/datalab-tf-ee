{
 "cells": [
  {
   "cell_type": "markdown",
   "metadata": {},
   "source": [
    "# Earth Engine Exploration\n",
    "\n",
    "This notebook is a playground to introduce the Earth Engine API concepts."
   ]
  },
  {
   "cell_type": "code",
   "execution_count": 9,
   "metadata": {
    "collapsed": false
   },
   "outputs": [],
   "source": [
    "# We begin by importing necessary modules\n",
    "import ee\n",
    "\n",
    "# IPython.display is a module included with jupyter that allows the displaying of images\n",
    "from IPython.display import Image"
   ]
  },
  {
   "cell_type": "code",
   "execution_count": 10,
   "metadata": {
    "collapsed": false
   },
   "outputs": [],
   "source": [
    "ee.Initialize()"
   ]
  },
  {
   "cell_type": "markdown",
   "metadata": {},
   "source": [
    "## Earth Engine Images\n",
    "We begin by pulling an image from Earth Engine. An index of all images can be located [here](https://explorer.earthengine.google.com/#index)"
   ]
  },
  {
   "cell_type": "code",
   "execution_count": 11,
   "metadata": {
    "collapsed": false
   },
   "outputs": [],
   "source": [
    "srtm = ee.Image(\"CGIAR/SRTM90_V4\")"
   ]
  },
  {
   "cell_type": "code",
   "execution_count": 13,
   "metadata": {
    "collapsed": false
   },
   "outputs": [
    {
     "data": {
      "text/html": [
       "<img src=\"https://earthengine.googleapis.com/api/thumb?thumbid=f2bfaf9626bfc03dfb6ae362cc1fd974&token=f23b9f459cf5dcd4afb79c600bc2ea10\"/>"
      ],
      "text/plain": [
       "<IPython.core.display.Image object>"
      ]
     },
     "execution_count": 13,
     "metadata": {},
     "output_type": "execute_result"
    }
   ],
   "source": [
    "Image(url = srtm.getThumbUrl())"
   ]
  },
  {
   "cell_type": "markdown",
   "metadata": {},
   "source": [
    "The above image allows us to view the entirety of the image we just retrieved. By default, `getThumbUrl()` retrieves the full image, but we can pass in parameters as JSON-like keys."
   ]
  },
  {
   "cell_type": "code",
   "execution_count": 14,
   "metadata": {
    "collapsed": false
   },
   "outputs": [
    {
     "data": {
      "text/html": [
       "<img src=\"https://earthengine.googleapis.com/api/thumb?thumbid=7de929fdfa86312dc1119b673ee1b4f4&token=cc283e246e93c289288e2c624438eb67\"/>"
      ],
      "text/plain": [
       "<IPython.core.display.Image object>"
      ]
     },
     "execution_count": 14,
     "metadata": {},
     "output_type": "execute_result"
    }
   ],
   "source": [
    "Image(url = srtm.getThumbUrl({'min': 0, 'max': 3500}))"
   ]
  },
  {
   "cell_type": "code",
   "execution_count": 15,
   "metadata": {
    "collapsed": false
   },
   "outputs": [
    {
     "data": {
      "text/html": [
       "<img src=\"https://earthengine.googleapis.com/api/thumb?thumbid=9ba94e034a024b835e70dbaff142d4cc&token=dccc836f5a6fea0f75512f68fe5df09d\"/>"
      ],
      "text/plain": [
       "<IPython.core.display.Image object>"
      ]
     },
     "execution_count": 15,
     "metadata": {},
     "output_type": "execute_result"
    }
   ],
   "source": [
    "point = ee.Geometry.Point(-122.0918, 37.422)\n",
    "region_bay_area = point.buffer(50000).bounds().getInfo()['coordinates']\n",
    "Image(url = srtm.getThumbUrl({'min':0, 'max':1000, 'region':region_bay_area}))"
   ]
  },
  {
   "cell_type": "markdown",
   "metadata": {},
   "source": [
    "Google also has data sets for image \"collections\", rather than just one image. "
   ]
  },
  {
   "cell_type": "code",
   "execution_count": 16,
   "metadata": {
    "collapsed": false
   },
   "outputs": [
    {
     "data": {
      "text/html": [
       "<img src=\"https://earthengine.googleapis.com/api/thumb?thumbid=43e7aeab8770de5c95d67d25e46c478e&token=24c9843b679feb45bd70b7f04e33315c\"/>"
      ],
      "text/plain": [
       "<IPython.core.display.Image object>"
      ]
     },
     "execution_count": 16,
     "metadata": {},
     "output_type": "execute_result"
    }
   ],
   "source": [
    "# Create a reference to the image collection\n",
    "l8 = ee.ImageCollection('LANDSAT/LC8_L1T_TOA')\n",
    "# Filter the collection down to a two week period\n",
    "filtered = l8.filterDate('2013-05-01', '2013-05-15');\n",
    "# Use the mosaic reducer, to select the most recent pixel in areas of overlap\n",
    "l8_image = filtered.mosaic()\n",
    "# Define a region roughly covering California\n",
    "point = ee.Geometry.Point(-118, 37)\n",
    "region_california = point.buffer(500000).bounds().getInfo()['coordinates']\n",
    "# And finally display the image.\n",
    "Image(url = l8_image.getThumbUrl({'region':region_california}))"
   ]
  },
  {
   "cell_type": "markdown",
   "metadata": {},
   "source": [
    "This is how to define colors for images:"
   ]
  },
  {
   "cell_type": "code",
   "execution_count": 17,
   "metadata": {
    "collapsed": false
   },
   "outputs": [
    {
     "data": {
      "text/html": [
       "<img src=\"https://earthengine.googleapis.com/api/thumb?thumbid=0c46082597f3bd6092827e013fc68172&token=31d0ae2f154ae5795c7361eb0044f857\"/>"
      ],
      "text/plain": [
       "<IPython.core.display.Image object>"
      ]
     },
     "execution_count": 17,
     "metadata": {},
     "output_type": "execute_result"
    }
   ],
   "source": [
    "Image(url = l8_image.getThumbUrl({\n",
    "    'region':region_california,\n",
    "    'bands':'B4,B3,B2',\n",
    "    'min':0,\n",
    "    'max':0.3\n",
    "}))"
   ]
  },
  {
   "cell_type": "markdown",
   "metadata": {},
   "source": [
    "The `bands` key allows us to create negative/false colors as well."
   ]
  },
  {
   "cell_type": "code",
   "execution_count": 18,
   "metadata": {
    "collapsed": false
   },
   "outputs": [
    {
     "data": {
      "text/html": [
       "<img src=\"https://earthengine.googleapis.com/api/thumb?thumbid=12aa198b70f930a06779282c64904c61&token=902e86c38d883f3e94c99db70af266a3\"/>"
      ],
      "text/plain": [
       "<IPython.core.display.Image object>"
      ]
     },
     "execution_count": 18,
     "metadata": {},
     "output_type": "execute_result"
    }
   ],
   "source": [
    "Image(url = l8_image.getThumbUrl({\n",
    "    'region':region_california,\n",
    "    'bands':'B5,B4,B3',\n",
    "    'min':0,\n",
    "    'max':0.3\n",
    "}))"
   ]
  },
  {
   "cell_type": "markdown",
   "metadata": {},
   "source": [
    "## Filtering date ranges\n",
    "the `filterDate` property allows us to retrieve images from a collection within a date frame. We will call the function `mosaic()` to retain the most recent images."
   ]
  },
  {
   "cell_type": "code",
   "execution_count": 22,
   "metadata": {
    "collapsed": true
   },
   "outputs": [],
   "source": [
    "filtered = l8.filterDate('2014-01-01', '2018-06-05')"
   ]
  },
  {
   "cell_type": "code",
   "execution_count": 23,
   "metadata": {
    "collapsed": false
   },
   "outputs": [
    {
     "data": {
      "text/html": [
       "<img src=\"https://earthengine.googleapis.com/api/thumb?thumbid=785d1bb017d3ea66fa95b683ee587988&token=a394c3c140ff924addbcbc7d4d902c21\"/>"
      ],
      "text/plain": [
       "<IPython.core.display.Image object>"
      ]
     },
     "execution_count": 23,
     "metadata": {},
     "output_type": "execute_result"
    }
   ],
   "source": [
    "l8_image = filtered.mosaic()\n",
    "Image(url = l8_image.getThumbUrl({\n",
    "    'region':region_california,\n",
    "    'bands':'B4,B3,B2',\n",
    "    'min':0,\n",
    "    'max':0.3\n",
    "}))"
   ]
  },
  {
   "cell_type": "code",
   "execution_count": null,
   "metadata": {
    "collapsed": true
   },
   "outputs": [],
   "source": []
  }
 ],
 "metadata": {
  "kernelspec": {
   "display_name": "Python 2",
   "language": "python",
   "name": "python2"
  },
  "language_info": {
   "codemirror_mode": {
    "name": "ipython",
    "version": 2
   },
   "file_extension": ".py",
   "mimetype": "text/x-python",
   "name": "python",
   "nbconvert_exporter": "python",
   "pygments_lexer": "ipython2",
   "version": "2.7.12"
  }
 },
 "nbformat": 4,
 "nbformat_minor": 2
}
