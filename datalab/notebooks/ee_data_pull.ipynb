{
 "cells": [
  {
   "cell_type": "markdown",
   "metadata": {},
   "source": [
    "# Earth Engine Data Retrieval Test\n",
    "This notebook is a playground for retrieving data sets."
   ]
  },
  {
   "cell_type": "code",
   "execution_count": 18,
   "metadata": {
    "collapsed": false
   },
   "outputs": [
    {
     "ename": "ImportError",
     "evalue": "No module named _tkinter, please install the python-tk package",
     "output_type": "error",
     "traceback": [
      "\u001b[0;31m\u001b[0m",
      "\u001b[0;31mImportError\u001b[0mTraceback (most recent call last)",
      "\u001b[0;32m<ipython-input-18-0d7c512f3ca7>\u001b[0m in \u001b[0;36m<module>\u001b[0;34m()\u001b[0m\n\u001b[1;32m      1\u001b[0m \u001b[0;32mimport\u001b[0m \u001b[0mee\u001b[0m\u001b[0;34m\u001b[0m\u001b[0m\n\u001b[0;32m----> 2\u001b[0;31m \u001b[0;32mfrom\u001b[0m \u001b[0mPIL\u001b[0m \u001b[0;32mimport\u001b[0m \u001b[0mImageTk\u001b[0m\u001b[0;34m\u001b[0m\u001b[0m\n\u001b[0m\u001b[1;32m      3\u001b[0m \u001b[0;32mfrom\u001b[0m \u001b[0mIPython\u001b[0m\u001b[0;34m.\u001b[0m\u001b[0mdisplay\u001b[0m \u001b[0;32mimport\u001b[0m \u001b[0mImage\u001b[0m\u001b[0;34m\u001b[0m\u001b[0m\n",
      "\u001b[0;32m/usr/local/lib/python2.7/dist-packages/PIL/ImageTk.py\u001b[0m in \u001b[0;36m<module>\u001b[0;34m()\u001b[0m\n\u001b[1;32m     29\u001b[0m     \u001b[0;32mimport\u001b[0m \u001b[0mtkinter\u001b[0m\u001b[0;34m\u001b[0m\u001b[0m\n\u001b[1;32m     30\u001b[0m \u001b[0;32mexcept\u001b[0m \u001b[0mImportError\u001b[0m\u001b[0;34m:\u001b[0m\u001b[0;34m\u001b[0m\u001b[0m\n\u001b[0;32m---> 31\u001b[0;31m     \u001b[0;32mimport\u001b[0m \u001b[0mTkinter\u001b[0m\u001b[0;34m\u001b[0m\u001b[0m\n\u001b[0m\u001b[1;32m     32\u001b[0m     \u001b[0mtkinter\u001b[0m \u001b[0;34m=\u001b[0m \u001b[0mTkinter\u001b[0m\u001b[0;34m\u001b[0m\u001b[0m\n\u001b[1;32m     33\u001b[0m     \u001b[0;32mdel\u001b[0m \u001b[0mTkinter\u001b[0m\u001b[0;34m\u001b[0m\u001b[0m\n",
      "\u001b[0;32m/usr/lib/python2.7/lib-tk/Tkinter.py\u001b[0m in \u001b[0;36m<module>\u001b[0;34m()\u001b[0m\n\u001b[1;32m     40\u001b[0m     \u001b[0;32mimport\u001b[0m \u001b[0m_tkinter\u001b[0m\u001b[0;34m\u001b[0m\u001b[0m\n\u001b[1;32m     41\u001b[0m \u001b[0;32mexcept\u001b[0m \u001b[0mImportError\u001b[0m\u001b[0;34m,\u001b[0m \u001b[0mmsg\u001b[0m\u001b[0;34m:\u001b[0m\u001b[0;34m\u001b[0m\u001b[0m\n\u001b[0;32m---> 42\u001b[0;31m     \u001b[0;32mraise\u001b[0m \u001b[0mImportError\u001b[0m\u001b[0;34m,\u001b[0m \u001b[0mstr\u001b[0m\u001b[0;34m(\u001b[0m\u001b[0mmsg\u001b[0m\u001b[0;34m)\u001b[0m \u001b[0;34m+\u001b[0m \u001b[0;34m', please install the python-tk package'\u001b[0m\u001b[0;34m\u001b[0m\u001b[0m\n\u001b[0m\u001b[1;32m     43\u001b[0m \u001b[0mtkinter\u001b[0m \u001b[0;34m=\u001b[0m \u001b[0m_tkinter\u001b[0m \u001b[0;31m# b/w compat for export\u001b[0m\u001b[0;34m\u001b[0m\u001b[0m\n\u001b[1;32m     44\u001b[0m \u001b[0mTclError\u001b[0m \u001b[0;34m=\u001b[0m \u001b[0m_tkinter\u001b[0m\u001b[0;34m.\u001b[0m\u001b[0mTclError\u001b[0m\u001b[0;34m\u001b[0m\u001b[0m\n",
      "\u001b[0;31mImportError\u001b[0m: No module named _tkinter, please install the python-tk package"
     ]
    }
   ],
   "source": [
    "import ee\n",
    "from PIL import ImageTk\n",
    "from IPython.display import Image"
   ]
  },
  {
   "cell_type": "code",
   "execution_count": 9,
   "metadata": {
    "collapsed": false
   },
   "outputs": [],
   "source": [
    "ee.Initialize()"
   ]
  },
  {
   "cell_type": "code",
   "execution_count": 10,
   "metadata": {
    "collapsed": false
   },
   "outputs": [],
   "source": [
    "nex = ee.ImageCollection(\"NASA/NEX-DCP30_ENSEMBLE_STATS\")      # pull data from the nasa/nex-dcp30 climate collection\n",
    "filtered = nex.filterDate('2010-01-01', '2018-07-05')          # define filtered date range\n",
    "\n",
    "nex_image = filtered.median()                                  # define the image mosaic from the filtered date range\n",
    "\n",
    "point = ee.Geometry.Point(-118, 37)\n",
    "california = point.buffer(50000000).bounds().getInfo()['coordinates']"
   ]
  },
  {
   "cell_type": "code",
   "execution_count": 11,
   "metadata": {
    "collapsed": false
   },
   "outputs": [],
   "source": [
    "def createTimeBand(image):\n",
    "  \"\"\"Add a time band to the specified image\"\"\"\n",
    "  # scale milliseconds by a large constant\n",
    "  return image.addBands(image.metadata('system:time_start').divide(1e18))"
   ]
  },
  {
   "cell_type": "code",
   "execution_count": 12,
   "metadata": {
    "collapsed": true
   },
   "outputs": [],
   "source": [
    "def createConstantBand(image):\n",
    "  \"\"\"Add a constant time band to the specified image\"\"\"\n",
    "  return ee.Image(1).addBands(image)"
   ]
  },
  {
   "cell_type": "markdown",
   "metadata": {},
   "source": [
    "## Data collection\n",
    "We now load the input image collection - projected climate data"
   ]
  },
  {
   "cell_type": "code",
   "execution_count": 13,
   "metadata": {
    "collapsed": false
   },
   "outputs": [
    {
     "name": "stdout",
     "output_type": "stream",
     "text": [
      "('OLS estimates:', <ee.dictionary.Dictionary object at 0x7f2a5c8cecd0>)\n",
      "('Robust estimates:', <ee.dictionary.Dictionary object at 0x7f2a5c8cea90>)\n"
     ]
    }
   ],
   "source": [
    "collection = (ee.ImageCollection('NASA/NEX-DCP30_ENSEMBLE_STATS')\n",
    "             .filterDate(ee.Date('2006-01-01'), ee.Date('2099-01-01'))\n",
    "             .filter(ee.Filter.eq('scenario', 'rcp85'))\n",
    "             .map(createTimeBand)\n",
    "             .map(createConstantBand)\n",
    "             .select(['constant', 'system:time_start', 'pr_mean', 'tasmax_mean']))\n",
    "\n",
    "# compute least squares regression coefficients\n",
    "linearRegression = (collection.reduce(\n",
    "  ee.Reducer.linearRegression(\n",
    "    numX = 2,\n",
    "    numY = 2\n",
    "  ))\n",
    ")\n",
    "\n",
    "# Compute robust linear regression coefficients.\n",
    "robustLinearRegression = (collection.reduce(\n",
    "  ee.Reducer.robustLinearRegression(\n",
    "    numX = 2,\n",
    "    numY = 2\n",
    "  ))\n",
    ")\n",
    "\n",
    "# The results are array images that must be flattened for display.\n",
    "# These lists label the information along each axis of the arrays.\n",
    "bandNames = [['constant', 'time'],       # 0-axis variation.\n",
    "             ['precip', 'temp']]         # 1-axis variation.\n",
    "\n",
    "# Flatten the array images to get multi-band images according to the labels.\n",
    "lrImage = linearRegression.select(['coefficients']).arrayFlatten(bandNames)\n",
    "rlrImage = robustLinearRegression.select(['coefficients']).arrayFlatten(bandNames)\n",
    "\n",
    "Image(url = lrImage.getThumbUrl({'region': california}))\n",
    "\n",
    "# print rlrImage.getInfo(), lrImage.getInfo()\n",
    "\n",
    "print(\"OLS estimates:\", lrImage.reduceRegion(\n",
    "  reducer = ee.Reducer.first(),\n",
    "  geometry = ee.Geometry.Point([-96.0, 41.0]),\n",
    "  scale = 1000\n",
    "))\n",
    "\n",
    "print(\"Robust estimates:\", rlrImage.reduceRegion(\n",
    "  reducer = ee.Reducer.first(),\n",
    "  geometry = ee.Geometry.Point([-96.0, 41.0]),\n",
    "  scale = 1000\n",
    "))\n",
    "\n",
    "# Image('https://developers.google.com/earth-engine/images/Reducers_linearFit.png')"
   ]
  },
  {
   "cell_type": "markdown",
   "metadata": {},
   "source": [
    "## Precipitation Predict\n",
    "we now predict precipitation.\n",
    "Blue = increase\n",
    "red = decrease"
   ]
  },
  {
   "cell_type": "code",
   "execution_count": 14,
   "metadata": {
    "collapsed": false
   },
   "outputs": [],
   "source": [
    "precp_collection = (ee.ImageCollection('NASA/NEX-DCP30_ENSEMBLE_STATS')\n",
    "                      .filter(ee.Filter.eq('scenario', 'rcp85'))\n",
    "                      .filterDate(ee.Date('2006-01-01'), ee.Date('2050-01-01'))\n",
    "                      .map(createTimeBand)\n",
    "                   )\n",
    "\n",
    "linearFit = precp_collection.select(['system:time_start', 'pr_mean']).reduce(ee.Reducer.linearFit())\n",
    "\n"
   ]
  },
  {
   "cell_type": "code",
   "execution_count": null,
   "metadata": {
    "collapsed": true
   },
   "outputs": [],
   "source": []
  }
 ],
 "metadata": {
  "kernelspec": {
   "display_name": "Python 2",
   "language": "python",
   "name": "python2"
  },
  "language_info": {
   "codemirror_mode": {
    "name": "ipython",
    "version": 2
   },
   "file_extension": ".py",
   "mimetype": "text/x-python",
   "name": "python",
   "nbconvert_exporter": "python",
   "pygments_lexer": "ipython2",
   "version": "2.7.12"
  }
 },
 "nbformat": 4,
 "nbformat_minor": 2
}
